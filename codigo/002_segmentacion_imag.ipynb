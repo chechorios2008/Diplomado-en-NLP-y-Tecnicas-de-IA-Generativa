{
 "cells": [
  {
   "cell_type": "markdown",
   "id": "13513f53",
   "metadata": {},
   "source": [
    "<h2> Segmentación de imagenes</h2>\n",
    "<h3> Computer Vision con Python - OpenCV</h3> "
   ]
  },
  {
   "cell_type": "code",
   "execution_count": 1,
   "id": "010ead71",
   "metadata": {},
   "outputs": [],
   "source": [
    "import cv2\n",
    "import numpy as np\n",
    "import matplotlib.pyplot as plt\n",
    "from ultralytics import YOLO"
   ]
  },
  {
   "cell_type": "code",
   "execution_count": 2,
   "id": "889158d2",
   "metadata": {},
   "outputs": [],
   "source": [
    "video_path = \"../videos/deteccion_tienda.mp4\""
   ]
  },
  {
   "cell_type": "code",
   "execution_count": 3,
   "id": "a4cd4b44",
   "metadata": {},
   "outputs": [
    {
     "name": "stdout",
     "output_type": "stream",
     "text": [
      "Downloading https://github.com/ultralytics/assets/releases/download/v8.3.0/yolo11n-seg.pt to 'yolo11n-seg.pt'...\n"
     ]
    },
    {
     "name": "stderr",
     "output_type": "stream",
     "text": [
      "100%|██████████| 5.90M/5.90M [00:00<00:00, 7.03MB/s]\n"
     ]
    }
   ],
   "source": [
    "cap = cv2.VideoCapture(video_path)\n",
    "\n",
    "# suscribe to the YOLO model\n",
    "\n",
    "bg_subtractor = cv2.createBackgroundSubtractorMOG2(\n",
    "    history=500,\n",
    "    varThreshold=16,\n",
    "    detectShadows=True\n",
    ")\n",
    "\n",
    "heatmap_refined = None\n",
    "\n",
    "# Cargue del modelo YOLO para segmentation\n",
    "model = YOLO(\"yolo11n-seg\")\n",
    "\n",
    "while True:\n",
    "    ret, frame = cap.read()\n",
    "    if not ret:\n",
    "        break\n",
    "    \n",
    "    # Iniciar el procesamiento de la imagen\n",
    "    if heatmap_refined is None:\n",
    "        heatmap_refined = np.zeros(frame.shape[:2], dtype=np.float32)\n",
    "        \n",
    "    # 1 --- Susrección del fondo\n",
    "    fgmask = bg_subtractor.apply(frame)\n",
    "    _, fgmask = cv2.threshold(fgmask, 200, 255, cv2.THRESH_BINARY)\n",
    "    \n",
    "    # 2 --- Detección de objetos con YOLO\n",
    "    results = model(frame, verbose=False)[0]\n",
    "    \n",
    "    # Crear camara vacia para acumular las imagenes.\n",
    "    segmentation_mask = np.zeros(frame.shape[:2], dtype=np.uint8)\n",
    "    \n",
    "    if results.masks is not None:\n",
    "        # Extraer las mascaras y las clases.\n",
    "        masks = results.masks.data.cpu().numpy() if hasattr(results.masks.data, 'cpu') else results.masks.data\n",
    "        classes = results.boxes.cls.cpu().numpy() if hasattr(results.boxes.cls, 'cpu') else results.boxes.cls\n",
    "        \n",
    "        for mask, cls in zip(masks, classes):\n",
    "            if int(cls) == 0:\n",
    "                mask_bin = (mask > 0.5).astype(np.uint8) * 255\n",
    "                mask_bin_resized = cv2.resize(mask_bin, (segmentation_mask.shape[1], segmentation_mask.shape[0]), interpolation=cv2.INTER_NEAREST)\n",
    "                segmentation_mask = cv2.bitwise_or(segmentation_mask, mask_bin_resized)\n",
    "                \n",
    "    # 3 Combinación de la máscara de segmentación con el fondo\n",
    "    refined_mask = cv2.bitwise_and(segmentation_mask, fgmask)\n",
    "    \n",
    "    # Acumular la mascara refinada\n",
    "    heatmap_refined = cv2.add(heatmap_refined, refined_mask.astype(np.float32))\n",
    "    \n",
    "    # Visualización del heatmap\n",
    "    cv2.imshow(\"Frame Original\", frame)\n",
    "    cv2.imshow(\"Mascara de movimiento (FG)\", fgmask)\n",
    "    cv2.imshow(\"Segmentación personas\", segmentation_mask)\n",
    "    cv2.imshow(\"Mascara refinada\", refined_mask)\n",
    "    \n",
    "    if cv2.waitKey(1) & 0xFF == ord('q'):\n",
    "        break\n",
    "\n",
    "cap.release()\n",
    "cv2.destroyAllWindows()"
   ]
  }
 ],
 "metadata": {
  "kernelspec": {
   "display_name": "venv",
   "language": "python",
   "name": "python3"
  },
  "language_info": {
   "codemirror_mode": {
    "name": "ipython",
    "version": 3
   },
   "file_extension": ".py",
   "mimetype": "text/x-python",
   "name": "python",
   "nbconvert_exporter": "python",
   "pygments_lexer": "ipython3",
   "version": "3.11.2"
  }
 },
 "nbformat": 4,
 "nbformat_minor": 5
}
